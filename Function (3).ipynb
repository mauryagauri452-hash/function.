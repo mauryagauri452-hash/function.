{
  "nbformat": 4,
  "nbformat_minor": 0,
  "metadata": {
    "colab": {
      "provenance": []
    },
    "kernelspec": {
      "name": "python3",
      "display_name": "Python 3"
    },
    "language_info": {
      "name": "python"
    }
  },
  "cells": [
    {
      "cell_type": "markdown",
      "source": [
        "#Function\n",
        "\n",
        " 1. What is the difference between a function and a method in Python.\n",
        "  - Function: A block of reusable code, defined using def, that is not tied to any object.\n",
        "\n",
        "Method: A function that belongs to an object (class instance) and is called using object.method().\n",
        "\n",
        "* Function\n",
        "def add(a, b):\n",
        "    return a + b\n",
        "\n",
        "print(add(2, 3))   # Output: 5\n",
        "\n",
        "*  Method\n",
        "text = \"hello\"\n",
        "print(text.upper())  # Output: \"HELLO\"\n",
        "2. Explain the concept of function arguments and parameters in Python.\n",
        "  - Function arguments and parameters\n",
        "Parameter: A variable in the function definition.\n",
        "\n",
        "Argument: The actual value passed when calling the function.\n",
        "\n",
        " Example:\n",
        "\n",
        "def greet(name):  # name = parameter\n",
        "    print(\"Hello\", name)\n",
        "\n",
        "greet(\"Alice\")  # \"Alice\" = argument\n",
        "\n",
        " 3. What are the different ways to define and call a function in Python\n",
        "  - Ways to define and call a function\n",
        "\n",
        "Normal function\n",
        "\n",
        "Lambda function\n",
        "\n",
        "Using def with default arguments\n",
        "\n",
        "With *args and **kwargs\n",
        "\n",
        " Example:\n",
        "\n",
        "def add(a, b=5):   # default argument\n",
        "    return a + b\n",
        "\n",
        "print(add(2))   # Output: 7\n",
        "print(add(2, 3))   # Output: 5\n",
        "\n",
        " Lambda function\n",
        "square = lambda x: x * x\n",
        "print(square(4))   # Output: 16\n",
        "\n",
        "4. What is the purpose of the `return` statement in a Python function?\n",
        "  - Purpose of return statement\n",
        "It sends a value back from the function.\n",
        "\n",
        "Without return, the function gives None.\n",
        "\n",
        "Example:\n",
        "\n",
        "def square(x):\n",
        "    return x * x\n",
        "\n",
        "print(square(5))  # Output: 25\n",
        "5. What are iterators in Python and how do they differ from iterables.\n",
        "- Iterators vs Iterables\n",
        "\n",
        "Iterable: Any object that can return an iterator (list, tuple, string).\n",
        "\n",
        "Iterator: An object that returns elements one at a time using next().\n",
        " Example:\n",
        "\n",
        "nums = [1, 2, 3]  iterable\n",
        "it = iter(nums)    iterator\n",
        "\n",
        "print(next(it))  \n",
        "print(next(it))\n",
        "6. Explain the concept of generators in Python and how they are defined.\n",
        "\n",
        " - Generators in Python\n",
        "\n",
        "Special functions that use yield to return values one by one.\n",
        "\n",
        "They are memory-efficient compared to lists.\n",
        "\n",
        " Example:\n",
        "\n",
        "def count_up_to(n):\n",
        "    i = 1\n",
        "    while i <= n:\n",
        "        yield i\n",
        "        i += 1\n",
        "\n",
        "for num in count_up_to(3):\n",
        "    print(num)\n",
        " Output: 1, 2, 3\n",
        "\n",
        "7. What are the advantages of using generators over regular functions?\n",
        "- Advantages of generators\n",
        "\n",
        "Memory efficient (don’t store entire data).\n",
        "\n",
        "Lazy evaluation (generate values when needed).\n",
        "\n",
        "Useful for large datasets or infinite streams.\n",
        "\n",
        "8. What is a lambda function in Python and when is it typically used?\n",
        "- Lambda function\n",
        "\n",
        "Small anonymous function using lambda.\n",
        "\n",
        "Typically used in map(), filter(), sorted().\n",
        "\n",
        " Example:\n",
        "\n",
        "square = lambda x: x * x\n",
        "print(square(5))  # Output: 25\n",
        "9. Explain the purpose and usage of the `map()` function in Python.\n",
        "-  Purpose of map()\n",
        "\n",
        "Applies a function to each element of an iterable.\n",
        "\n",
        "Example:\n",
        "\n",
        "nums = [1, 2, 3, 4]\n",
        "squares = list(map(lambda x: x**2, nums))\n",
        "print(squares)  # [1, 4, 9, 16]\n",
        "10. What is the difference between `map()`, `reduce()`, and `filter()`.\n",
        " - functions in Python\n",
        "Difference between map(), reduce(), and filter()\n",
        "map() → Applies a function to all elements.\n",
        "\n",
        "filter() → Selects elements that satisfy a condition.\n",
        "\n",
        "reduce() → Reduces an iterable to a single value (needs functools).\n",
        "\n",
        "Example:\n",
        "\n",
        "from functools import reduce\n",
        "\n",
        "nums = [1, 2, 3, 4, 5]\n",
        "\n",
        "print(list(map(lambda x: x*2, nums)))     # [2, 4, 6, 8, 10]\n",
        "print(list(filter(lambda x: x%2==0, nums)))  # [2, 4]\n",
        "print(reduce(lambda x, y: x+y, nums))    # 15\n",
        "11. Using pen & Paper write the internal mechanism for sum operation using  reduce function on the given list [[47,11,42,13];\n",
        "Attach paper image for this answer\n",
        " - Reduce function for sum of [47, 11, 42, 13]\n",
        "Step-by-step working of reduce(lambda x, y: x+y, [47,11,42,13]):\n",
        "\n",
        "47 + 11 = 58\n",
        "\n",
        "58 + 42 = 100\n",
        "\n",
        "100 + 13 = 113\n",
        "\n",
        " Final Answer = 113\n",
        "\n",
        "from functools import reduce\n",
        "\n",
        "nums = [47, 11, 42, 13]\n",
        "result = reduce(lambda x, y: x+y, nums)\n",
        "print(result)   # Output: 113"
      ],
      "metadata": {
        "id": "QGjXFxApSPM9"
      }
    },
    {
      "cell_type": "code",
      "source": [
        "\"\"\"1.Write a Python function that takes a list of numbers as input and returns the sum of all even numbers in\n",
        "the list\"\"\"\n",
        "def sum_even_numbers(numbers):\n",
        "    sum = 0\n",
        "    for num in numbers:\n",
        "        if num % 2 == 0:\n",
        "            sum += num\n",
        "    return sum\n",
        "sum_even_numbers([1, 2, 3, 4, 5, 6, 7, 8, 9])\n"
      ],
      "metadata": {
        "id": "9vIr1ZVkkCKh",
        "colab": {
          "base_uri": "https://localhost:8080/"
        },
        "outputId": "30ec2e5c-c80d-4bb2-c38b-ca65e732a68c"
      },
      "execution_count": 3,
      "outputs": [
        {
          "output_type": "execute_result",
          "data": {
            "text/plain": [
              "20"
            ]
          },
          "metadata": {},
          "execution_count": 3
        }
      ]
    },
    {
      "cell_type": "code",
      "source": [
        "#2. . Create a Python function that accepts a string and returns the reverse of that string.\n",
        "def reverse_string(string):\n",
        "    return string[::-1]\n",
        "reverse_string(\"Hello World\")"
      ],
      "metadata": {
        "colab": {
          "base_uri": "https://localhost:8080/",
          "height": 36
        },
        "id": "rAfF7dgsljzb",
        "outputId": "556e69e1-f0eb-461b-8f92-89ffa7c74f62"
      },
      "execution_count": 4,
      "outputs": [
        {
          "output_type": "execute_result",
          "data": {
            "text/plain": [
              "'dlroW olleH'"
            ],
            "application/vnd.google.colaboratory.intrinsic+json": {
              "type": "string"
            }
          },
          "metadata": {},
          "execution_count": 4
        }
      ]
    },
    {
      "cell_type": "code",
      "source": [
        "\"\"\"3.Implement a Python function that takes a list of integers and returns a new list containing the squares of\n",
        "each number\"\"\"\n",
        "def square_list(numbers):\n",
        "    return [num ** 2 for num in numbers]\n",
        "\n",
        "# Example\n",
        "print(square_list([1, 2, 3, 4]))  # Output: [1, 4, 9, 16]\n"
      ],
      "metadata": {
        "colab": {
          "base_uri": "https://localhost:8080/"
        },
        "id": "ofnq-_FhmqOG",
        "outputId": "eeb7b49c-90af-4969-823c-ffd7a1bf002a"
      },
      "execution_count": 5,
      "outputs": [
        {
          "output_type": "stream",
          "name": "stdout",
          "text": [
            "[1, 4, 9, 16]\n"
          ]
        }
      ]
    },
    {
      "cell_type": "code",
      "source": [
        "#4.Write a Python function that checks if a given number is prime or not from 1 to 200.\n",
        "\n",
        "def is_prime(n):\n",
        "    if n < 2:\n",
        "        return False\n",
        "    for i in range(2, int(n**0.5) + 1):\n",
        "        if n % i == 0:\n",
        "            return False\n",
        "    return True\n",
        "\n",
        "# Example\n",
        "print([n for n in range(1, 201) if is_prime(n)])\n"
      ],
      "metadata": {
        "colab": {
          "base_uri": "https://localhost:8080/"
        },
        "id": "WtgRbuk-oVXU",
        "outputId": "94ee69b0-589c-41d8-abfd-e11755047877"
      },
      "execution_count": 6,
      "outputs": [
        {
          "output_type": "stream",
          "name": "stdout",
          "text": [
            "[2, 3, 5, 7, 11, 13, 17, 19, 23, 29, 31, 37, 41, 43, 47, 53, 59, 61, 67, 71, 73, 79, 83, 89, 97, 101, 103, 107, 109, 113, 127, 131, 137, 139, 149, 151, 157, 163, 167, 173, 179, 181, 191, 193, 197, 199]\n"
          ]
        }
      ]
    },
    {
      "cell_type": "code",
      "source": [
        "#5. Create an iterator class in Python that generates the Fibonacci sequence up to a specified number of terms.\n",
        "class Fibonacci:\n",
        "    def __init__(self, limit):\n",
        "        self.a, self.b = 0, 1\n",
        "        self.limit = limit\n",
        "        self.count = 0\n",
        "\n",
        "    def __iter__(self):\n",
        "        return self\n",
        "\n",
        "    def __next__(self):\n",
        "        if self.count < self.limit:\n",
        "            self.count += 1\n",
        "            self.a, self.b = self.b, self.a + self.b\n",
        "            return self.a\n",
        "        else:\n",
        "            raise StopIteration\n",
        "\n",
        "# Example\n",
        "print(list(Fibonacci(10)))\n"
      ],
      "metadata": {
        "colab": {
          "base_uri": "https://localhost:8080/"
        },
        "id": "Kxxp1I3joydo",
        "outputId": "0cfd8792-2a7b-4561-869b-59696a204d3b"
      },
      "execution_count": 7,
      "outputs": [
        {
          "output_type": "stream",
          "name": "stdout",
          "text": [
            "[1, 1, 2, 3, 5, 8, 13, 21, 34, 55]\n"
          ]
        }
      ]
    },
    {
      "cell_type": "code",
      "source": [
        "#6.Write a generator function in Python that yields the powers of 2 up to a given exponent.\n",
        "def power_of_two(n):\n",
        "    for i in range(n):\n",
        "        yield 2 ** i\n",
        "\n",
        "# Example\n",
        "print(list(power_of_two(5)))"
      ],
      "metadata": {
        "colab": {
          "base_uri": "https://localhost:8080/"
        },
        "id": "T-Jt1ErhpJuP",
        "outputId": "12c810ff-b14d-4de9-cc49-09e4d59171ba"
      },
      "execution_count": 8,
      "outputs": [
        {
          "output_type": "stream",
          "name": "stdout",
          "text": [
            "[1, 2, 4, 8, 16]\n"
          ]
        }
      ]
    },
    {
      "cell_type": "code",
      "source": [
        "#7.Implement a generator function that reads a file line by line and yields each line as a string.\n",
        "def read_file_line_by_line(filename):\n",
        "    with open(filename, 'r') as file:\n",
        "        for line in file:\n",
        "            yield line.strip()"
      ],
      "metadata": {
        "id": "P2nb0lLCpXaS"
      },
      "execution_count": 9,
      "outputs": []
    },
    {
      "cell_type": "code",
      "source": [
        "#8. Use a lambda function in Python to sort a list of tuples based on the second element of each tuple.\n",
        "tuples = [(1, 3), (2, 1), (4, 2)]\n",
        "sorted_list = sorted(tuples, key=lambda x: x[1])\n",
        "print(sorted_list)  # Output: [(2, 1), (4, 2), (1, 3)]\n"
      ],
      "metadata": {
        "colab": {
          "base_uri": "https://localhost:8080/"
        },
        "id": "uzcC1EM8p0_R",
        "outputId": "8bdc649b-42ea-4afd-fa76-27fefba71bff"
      },
      "execution_count": 10,
      "outputs": [
        {
          "output_type": "stream",
          "name": "stdout",
          "text": [
            "[(2, 1), (4, 2), (1, 3)]\n"
          ]
        }
      ]
    },
    {
      "cell_type": "code",
      "source": [
        "#9.Write a Python program that uses `map()` to convert a list of temperatures from Celsius to Fahrenheit.\n",
        "celsius_temps = [0, 10, 20, 30, 40]\n",
        "fahrenheit_temps = list(map(lambda x: (x * 9/5) + 32, celsius_temps))"
      ],
      "metadata": {
        "id": "4sDoloOrqJtc"
      },
      "execution_count": 11,
      "outputs": []
    },
    {
      "cell_type": "code",
      "source": [
        "#10. Create a Python program that uses `filter()` to remove all the vowels from a given string.\n",
        "def remove_vowels(string):\n",
        "    vowels = 'aeiouAEIOU'\n",
        "    return ''.join(filter(lambda x: x not in vowels, string))"
      ],
      "metadata": {
        "id": "6z7NpwqtqohZ"
      },
      "execution_count": null,
      "outputs": []
    },
    {
      "cell_type": "code",
      "source": [
        "\"\"\"11.\n",
        " Imagine an accounting routine used in a book shop. It works on a list with sublists, which look like this:\n",
        " Write a Python program, which returns a list with 2-tuples. Each tuple consists of the order number and the\n",
        "product of the price per item and the quantity. The product should be increased by 10,- € if the value of the\n",
        "order is smaller than 100,00 €.\n",
        " Write a Python program using lambda and map\n",
        "\"\"\"\n",
        "orders = [\n",
        "    [34587, \"Learning Python, Mark Lutz\", 4, 40.95],\n",
        "    [98762, \"Programming Python, Mark Lutz\", 5, 56.80],\n",
        "    [77226, \"Head First Python, Paul Barry\", 3, 32.95],\n",
        "    [88112, \"Einführung in Python3, Bernd Klein\", 3, 24.99]\n",
        "]\n",
        "\n",
        "result = list(map(lambda x: (x[0], x[2] * x[3] if x[2] * x[3] >= 100 else x[2] * x[3] + 10), orders))\n",
        "\n",
        "print(result)\n",
        "# Output: [(34587, 163.8), (98762, 284.0), (77226, 98.85 + 10), (88112, 74.97 + 10)]\n"
      ],
      "metadata": {
        "colab": {
          "base_uri": "https://localhost:8080/"
        },
        "id": "zS5eZ7Stq2f7",
        "outputId": "1aa05a20-1cec-4eae-ccb6-99f301e970f9"
      },
      "execution_count": 12,
      "outputs": [
        {
          "output_type": "stream",
          "name": "stdout",
          "text": [
            "[(34587, 163.8), (98762, 284.0), (77226, 108.85000000000001), (88112, 84.97)]\n"
          ]
        }
      ]
    }
  ]
}